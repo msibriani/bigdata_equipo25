{
  "cells": [
    {
      "cell_type": "markdown",
      "metadata": {
        "id": "zdXLDJGIVFhT"
      },
      "source": [
        "# Avance 2 - Sistema de Recomendación (Avanzado)"
      ]
    },
    {
      "cell_type": "markdown",
      "metadata": {
        "id": "23vF5LOpVFhV"
      },
      "source": [
        "- Matthias Sibrian Illescas A01794249\n",
        "- Johan Andrés Castro Gómez A01793556\n",
        "- Luis Miguel González Gutiérrez A01794779"
      ]
    },
    {
      "cell_type": "markdown",
      "metadata": {
        "id": "FHp5E0TpVFhV"
      },
      "source": [
        "En este notebook se presenta la comparación de modelos para el sistema de recomendación. El notebook está dividido en cuatro secciones principales:\n",
        "\n",
        "1. **Librerías**: Importación de las librerías necesarias.\n",
        "2. **Lectura de datos**: Carga y preprocesamiento de los datos.\n",
        "3. **Métricas de evaluación de desempeño**: Se presentan tres métricas para la evaluación del desempeño del sistema de recomendación\n",
        "4. **Sistema de recomendación Avanzado**: Implementación de un sistema de recomendación avanzado.\n",
        "5. **Sistema de recomendación Básico**: Implementación de un sistema de recomendación básico.\n",
        "5. **Comparación de modelos**: Se comparan los modelos con las métricas propuestas\n",
        "5. **Conclusión**: Se establece las conclusiones de la entrega  "
      ]
    },
    {
      "cell_type": "markdown",
      "metadata": {
        "id": "IbVJfyaeVFhW"
      },
      "source": [
        "### Librerias"
      ]
    },
    {
      "cell_type": "code",
      "execution_count": 1,
      "metadata": {
        "id": "LY94DESSVFhW"
      },
      "outputs": [],
      "source": [
        "import pandas as pd\n",
        "import numpy as np\n",
        "\n",
        "\n",
        "import matplotlib.pyplot as plt\n",
        "import seaborn as sns\n",
        "\n",
        "\n",
        "from sklearn.metrics.pairwise import cosine_similarity\n",
        "from sklearn.model_selection import train_test_split\n",
        "from sklearn.metrics import mean_squared_error, mean_absolute_error\n",
        "from scipy.sparse import csr_matrix\n",
        "\n",
        "import tensorflow as tf\n",
        "from tensorflow.keras.layers import Input, Embedding, Flatten, Dense, Concatenate, Dropout\n",
        "from tensorflow.keras.models import Model\n",
        "from tensorflow.keras.regularizers import l2\n",
        "from tensorflow.keras.callbacks import EarlyStopping\n"
      ]
    },
    {
      "cell_type": "markdown",
      "metadata": {
        "id": "850aiAs9VFhX"
      },
      "source": [
        "### Lectura de datos"
      ]
    },
    {
      "cell_type": "code",
      "execution_count": 2,
      "metadata": {
        "colab": {
          "base_uri": "https://localhost:8080/",
          "height": 424
        },
        "id": "uksNhDyCVFhX",
        "outputId": "8956e02b-7448-4870-bb40-e9b4bcf18f69"
      },
      "outputs": [
        {
          "data": {
            "text/html": [
              "<div>\n",
              "<style scoped>\n",
              "    .dataframe tbody tr th:only-of-type {\n",
              "        vertical-align: middle;\n",
              "    }\n",
              "\n",
              "    .dataframe tbody tr th {\n",
              "        vertical-align: top;\n",
              "    }\n",
              "\n",
              "    .dataframe thead th {\n",
              "        text-align: right;\n",
              "    }\n",
              "</style>\n",
              "<table border=\"1\" class=\"dataframe\">\n",
              "  <thead>\n",
              "    <tr style=\"text-align: right;\">\n",
              "      <th></th>\n",
              "      <th>user_id</th>\n",
              "      <th>recipe_id</th>\n",
              "      <th>date</th>\n",
              "      <th>rating</th>\n",
              "      <th>review</th>\n",
              "    </tr>\n",
              "  </thead>\n",
              "  <tbody>\n",
              "    <tr>\n",
              "      <th>0</th>\n",
              "      <td>38094</td>\n",
              "      <td>40893</td>\n",
              "      <td>2003-02-17</td>\n",
              "      <td>4</td>\n",
              "      <td>Great with a salad. Cooked on top of stove for...</td>\n",
              "    </tr>\n",
              "    <tr>\n",
              "      <th>1</th>\n",
              "      <td>1293707</td>\n",
              "      <td>40893</td>\n",
              "      <td>2011-12-21</td>\n",
              "      <td>5</td>\n",
              "      <td>So simple, so delicious! Great for chilly fall...</td>\n",
              "    </tr>\n",
              "    <tr>\n",
              "      <th>2</th>\n",
              "      <td>8937</td>\n",
              "      <td>44394</td>\n",
              "      <td>2002-12-01</td>\n",
              "      <td>4</td>\n",
              "      <td>This worked very well and is EASY.  I used not...</td>\n",
              "    </tr>\n",
              "    <tr>\n",
              "      <th>3</th>\n",
              "      <td>126440</td>\n",
              "      <td>85009</td>\n",
              "      <td>2010-02-27</td>\n",
              "      <td>5</td>\n",
              "      <td>I made the Mexican topping and took it to bunk...</td>\n",
              "    </tr>\n",
              "    <tr>\n",
              "      <th>4</th>\n",
              "      <td>57222</td>\n",
              "      <td>85009</td>\n",
              "      <td>2011-10-01</td>\n",
              "      <td>5</td>\n",
              "      <td>Made the cheddar bacon topping, adding a sprin...</td>\n",
              "    </tr>\n",
              "    <tr>\n",
              "      <th>...</th>\n",
              "      <td>...</td>\n",
              "      <td>...</td>\n",
              "      <td>...</td>\n",
              "      <td>...</td>\n",
              "      <td>...</td>\n",
              "    </tr>\n",
              "    <tr>\n",
              "      <th>1132362</th>\n",
              "      <td>116593</td>\n",
              "      <td>72730</td>\n",
              "      <td>2003-12-09</td>\n",
              "      <td>0</td>\n",
              "      <td>Another approach is to start making sauce with...</td>\n",
              "    </tr>\n",
              "    <tr>\n",
              "      <th>1132363</th>\n",
              "      <td>583662</td>\n",
              "      <td>386618</td>\n",
              "      <td>2009-09-29</td>\n",
              "      <td>5</td>\n",
              "      <td>These were so delicious!  My husband and I tru...</td>\n",
              "    </tr>\n",
              "    <tr>\n",
              "      <th>1132364</th>\n",
              "      <td>157126</td>\n",
              "      <td>78003</td>\n",
              "      <td>2008-06-23</td>\n",
              "      <td>5</td>\n",
              "      <td>WOW!  Sometimes I don't take the time to rate ...</td>\n",
              "    </tr>\n",
              "    <tr>\n",
              "      <th>1132365</th>\n",
              "      <td>53932</td>\n",
              "      <td>78003</td>\n",
              "      <td>2009-01-11</td>\n",
              "      <td>4</td>\n",
              "      <td>Very good!  I used regular port as well.  The ...</td>\n",
              "    </tr>\n",
              "    <tr>\n",
              "      <th>1132366</th>\n",
              "      <td>2001868099</td>\n",
              "      <td>78003</td>\n",
              "      <td>2017-12-18</td>\n",
              "      <td>5</td>\n",
              "      <td>I am so glad I googled and found this here. Th...</td>\n",
              "    </tr>\n",
              "  </tbody>\n",
              "</table>\n",
              "<p>1132367 rows × 5 columns</p>\n",
              "</div>"
            ],
            "text/plain": [
              "            user_id  recipe_id        date  rating  \\\n",
              "0             38094      40893  2003-02-17       4   \n",
              "1           1293707      40893  2011-12-21       5   \n",
              "2              8937      44394  2002-12-01       4   \n",
              "3            126440      85009  2010-02-27       5   \n",
              "4             57222      85009  2011-10-01       5   \n",
              "...             ...        ...         ...     ...   \n",
              "1132362      116593      72730  2003-12-09       0   \n",
              "1132363      583662     386618  2009-09-29       5   \n",
              "1132364      157126      78003  2008-06-23       5   \n",
              "1132365       53932      78003  2009-01-11       4   \n",
              "1132366  2001868099      78003  2017-12-18       5   \n",
              "\n",
              "                                                    review  \n",
              "0        Great with a salad. Cooked on top of stove for...  \n",
              "1        So simple, so delicious! Great for chilly fall...  \n",
              "2        This worked very well and is EASY.  I used not...  \n",
              "3        I made the Mexican topping and took it to bunk...  \n",
              "4        Made the cheddar bacon topping, adding a sprin...  \n",
              "...                                                    ...  \n",
              "1132362  Another approach is to start making sauce with...  \n",
              "1132363  These were so delicious!  My husband and I tru...  \n",
              "1132364  WOW!  Sometimes I don't take the time to rate ...  \n",
              "1132365  Very good!  I used regular port as well.  The ...  \n",
              "1132366  I am so glad I googled and found this here. Th...  \n",
              "\n",
              "[1132367 rows x 5 columns]"
            ]
          },
          "execution_count": 2,
          "metadata": {},
          "output_type": "execute_result"
        }
      ],
      "source": [
        "#df = pd.read_csv('Datos/RAW_interactions.csv')\n",
        "df = pd.read_csv(r\"C:\\Users\\7UI5\\Documents\\TEC\\CURSOS\\Big Data\\Datos\\RAW_interactions.csv\")\n",
        "df"
      ]
    },
    {
      "cell_type": "code",
      "execution_count": 3,
      "metadata": {
        "colab": {
          "base_uri": "https://localhost:8080/"
        },
        "id": "ejv2ymBaVFhY",
        "outputId": "097fd422-6e86-4a5b-c0c7-a7bf36147d26"
      },
      "outputs": [
        {
          "data": {
            "text/plain": [
              "518.4310000000114"
            ]
          },
          "execution_count": 3,
          "metadata": {},
          "output_type": "execute_result"
        }
      ],
      "source": [
        "reviews_por_usuario = df['user_id'].value_counts()\n",
        "\n",
        "percentil_99 = reviews_por_usuario.quantile(0.999)\n",
        "percentil_99"
      ]
    },
    {
      "cell_type": "code",
      "execution_count": 4,
      "metadata": {
        "colab": {
          "base_uri": "https://localhost:8080/"
        },
        "id": "-cH6YAQJVFhZ",
        "outputId": "e30e4cb7-0981-4117-969d-074a097a01ae"
      },
      "outputs": [
        {
          "data": {
            "text/plain": [
              "28003"
            ]
          },
          "execution_count": 4,
          "metadata": {},
          "output_type": "execute_result"
        }
      ],
      "source": [
        "len(reviews_por_usuario[(reviews_por_usuario > 3) & (reviews_por_usuario <= percentil_99)].index)"
      ]
    },
    {
      "cell_type": "code",
      "execution_count": 5,
      "metadata": {
        "colab": {
          "base_uri": "https://localhost:8080/",
          "height": 424
        },
        "id": "Hb6FYd4CVFha",
        "outputId": "5bfe883f-4c6b-4dcb-82f5-3d7dfb660882"
      },
      "outputs": [
        {
          "data": {
            "text/html": [
              "<div>\n",
              "<style scoped>\n",
              "    .dataframe tbody tr th:only-of-type {\n",
              "        vertical-align: middle;\n",
              "    }\n",
              "\n",
              "    .dataframe tbody tr th {\n",
              "        vertical-align: top;\n",
              "    }\n",
              "\n",
              "    .dataframe thead th {\n",
              "        text-align: right;\n",
              "    }\n",
              "</style>\n",
              "<table border=\"1\" class=\"dataframe\">\n",
              "  <thead>\n",
              "    <tr style=\"text-align: right;\">\n",
              "      <th></th>\n",
              "      <th>user_id</th>\n",
              "      <th>recipe_id</th>\n",
              "      <th>date</th>\n",
              "      <th>rating</th>\n",
              "      <th>review</th>\n",
              "    </tr>\n",
              "  </thead>\n",
              "  <tbody>\n",
              "    <tr>\n",
              "      <th>0</th>\n",
              "      <td>38094</td>\n",
              "      <td>40893</td>\n",
              "      <td>2003-02-17</td>\n",
              "      <td>4</td>\n",
              "      <td>Great with a salad. Cooked on top of stove for...</td>\n",
              "    </tr>\n",
              "    <tr>\n",
              "      <th>1</th>\n",
              "      <td>1293707</td>\n",
              "      <td>40893</td>\n",
              "      <td>2011-12-21</td>\n",
              "      <td>5</td>\n",
              "      <td>So simple, so delicious! Great for chilly fall...</td>\n",
              "    </tr>\n",
              "    <tr>\n",
              "      <th>2</th>\n",
              "      <td>8937</td>\n",
              "      <td>44394</td>\n",
              "      <td>2002-12-01</td>\n",
              "      <td>4</td>\n",
              "      <td>This worked very well and is EASY.  I used not...</td>\n",
              "    </tr>\n",
              "    <tr>\n",
              "      <th>4</th>\n",
              "      <td>57222</td>\n",
              "      <td>85009</td>\n",
              "      <td>2011-10-01</td>\n",
              "      <td>5</td>\n",
              "      <td>Made the cheddar bacon topping, adding a sprin...</td>\n",
              "    </tr>\n",
              "    <tr>\n",
              "      <th>6</th>\n",
              "      <td>124416</td>\n",
              "      <td>120345</td>\n",
              "      <td>2011-08-06</td>\n",
              "      <td>0</td>\n",
              "      <td>Just an observation, so I will not rate.  I fo...</td>\n",
              "    </tr>\n",
              "    <tr>\n",
              "      <th>...</th>\n",
              "      <td>...</td>\n",
              "      <td>...</td>\n",
              "      <td>...</td>\n",
              "      <td>...</td>\n",
              "      <td>...</td>\n",
              "    </tr>\n",
              "    <tr>\n",
              "      <th>1132354</th>\n",
              "      <td>143592</td>\n",
              "      <td>82303</td>\n",
              "      <td>2010-07-26</td>\n",
              "      <td>5</td>\n",
              "      <td>I will never buy hot fudge again. This is so q...</td>\n",
              "    </tr>\n",
              "    <tr>\n",
              "      <th>1132356</th>\n",
              "      <td>199020</td>\n",
              "      <td>82303</td>\n",
              "      <td>2013-03-18</td>\n",
              "      <td>5</td>\n",
              "      <td>5 stars for taste! I had a hard time getting m...</td>\n",
              "    </tr>\n",
              "    <tr>\n",
              "      <th>1132357</th>\n",
              "      <td>1122988</td>\n",
              "      <td>82303</td>\n",
              "      <td>2014-07-08</td>\n",
              "      <td>5</td>\n",
              "      <td>This was amazingly delicious!  The only change...</td>\n",
              "    </tr>\n",
              "    <tr>\n",
              "      <th>1132361</th>\n",
              "      <td>102526</td>\n",
              "      <td>54493</td>\n",
              "      <td>2007-04-26</td>\n",
              "      <td>0</td>\n",
              "      <td>I am not going to rate this because I did have...</td>\n",
              "    </tr>\n",
              "    <tr>\n",
              "      <th>1132364</th>\n",
              "      <td>157126</td>\n",
              "      <td>78003</td>\n",
              "      <td>2008-06-23</td>\n",
              "      <td>5</td>\n",
              "      <td>WOW!  Sometimes I don't take the time to rate ...</td>\n",
              "    </tr>\n",
              "  </tbody>\n",
              "</table>\n",
              "<p>623158 rows × 5 columns</p>\n",
              "</div>"
            ],
            "text/plain": [
              "         user_id  recipe_id        date  rating  \\\n",
              "0          38094      40893  2003-02-17       4   \n",
              "1        1293707      40893  2011-12-21       5   \n",
              "2           8937      44394  2002-12-01       4   \n",
              "4          57222      85009  2011-10-01       5   \n",
              "6         124416     120345  2011-08-06       0   \n",
              "...          ...        ...         ...     ...   \n",
              "1132354   143592      82303  2010-07-26       5   \n",
              "1132356   199020      82303  2013-03-18       5   \n",
              "1132357  1122988      82303  2014-07-08       5   \n",
              "1132361   102526      54493  2007-04-26       0   \n",
              "1132364   157126      78003  2008-06-23       5   \n",
              "\n",
              "                                                    review  \n",
              "0        Great with a salad. Cooked on top of stove for...  \n",
              "1        So simple, so delicious! Great for chilly fall...  \n",
              "2        This worked very well and is EASY.  I used not...  \n",
              "4        Made the cheddar bacon topping, adding a sprin...  \n",
              "6        Just an observation, so I will not rate.  I fo...  \n",
              "...                                                    ...  \n",
              "1132354  I will never buy hot fudge again. This is so q...  \n",
              "1132356  5 stars for taste! I had a hard time getting m...  \n",
              "1132357  This was amazingly delicious!  The only change...  \n",
              "1132361  I am not going to rate this because I did have...  \n",
              "1132364  WOW!  Sometimes I don't take the time to rate ...  \n",
              "\n",
              "[623158 rows x 5 columns]"
            ]
          },
          "execution_count": 5,
          "metadata": {},
          "output_type": "execute_result"
        }
      ],
      "source": [
        "filtro_usuarios = reviews_por_usuario[(reviews_por_usuario > 3) & (reviews_por_usuario <= percentil_99)].index\n",
        "\n",
        "df_filtrado = df[df['user_id'].isin(filtro_usuarios)]\n",
        "df_filtrado"
      ]
    },
    {
      "cell_type": "markdown",
      "metadata": {
        "id": "DaEwvtKSVFhb"
      },
      "source": [
        "### Métricas de evaluación de desempeño"
      ]
    },
    {
      "cell_type": "code",
      "execution_count": 6,
      "metadata": {
        "id": "G8SZpMK-kB6p"
      },
      "outputs": [],
      "source": [
        "def evaluate_model(y_true, y_pred):\n",
        "    mse = mean_squared_error(y_true, y_pred)\n",
        "    rmse = mean_squared_error(y_true, y_pred, squared=False)\n",
        "    mae = mean_absolute_error(y_true, y_pred)\n",
        "\n",
        "    return mse, rmse, mae"
      ]
    },
    {
      "cell_type": "markdown",
      "metadata": {
        "id": "H8jZ1p5-VFhb"
      },
      "source": [
        "### Sistema de recomendación Avanzado"
      ]
    },
    {
      "cell_type": "code",
      "execution_count": 7,
      "metadata": {
        "colab": {
          "base_uri": "https://localhost:8080/",
          "height": 649
        },
        "id": "tOffyaJCVFhc",
        "outputId": "badd3bc4-c703-4761-b605-9cecd7ac4b74"
      },
      "outputs": [
        {
          "name": "stderr",
          "output_type": "stream",
          "text": [
            "C:\\Users\\7UI5\\AppData\\Local\\Temp\\ipykernel_34484\\2395435008.py:4: SettingWithCopyWarning: \n",
            "A value is trying to be set on a copy of a slice from a DataFrame.\n",
            "Try using .loc[row_indexer,col_indexer] = value instead\n",
            "\n",
            "See the caveats in the documentation: https://pandas.pydata.org/pandas-docs/stable/user_guide/indexing.html#returning-a-view-versus-a-copy\n",
            "  df_filtrado['usuario_idx'] = df_filtrado['user_id'].map(mapa_usuario_ids)\n"
          ]
        },
        {
          "name": "stdout",
          "output_type": "stream",
          "text": [
            "DataFrame con índices mapeados:\n"
          ]
        },
        {
          "name": "stderr",
          "output_type": "stream",
          "text": [
            "C:\\Users\\7UI5\\AppData\\Local\\Temp\\ipykernel_34484\\2395435008.py:9: SettingWithCopyWarning: \n",
            "A value is trying to be set on a copy of a slice from a DataFrame.\n",
            "Try using .loc[row_indexer,col_indexer] = value instead\n",
            "\n",
            "See the caveats in the documentation: https://pandas.pydata.org/pandas-docs/stable/user_guide/indexing.html#returning-a-view-versus-a-copy\n",
            "  df_filtrado['receta_idx'] = df_filtrado['recipe_id'].map(mapa_receta_ids)\n"
          ]
        },
        {
          "data": {
            "text/html": [
              "<div>\n",
              "<style scoped>\n",
              "    .dataframe tbody tr th:only-of-type {\n",
              "        vertical-align: middle;\n",
              "    }\n",
              "\n",
              "    .dataframe tbody tr th {\n",
              "        vertical-align: top;\n",
              "    }\n",
              "\n",
              "    .dataframe thead th {\n",
              "        text-align: right;\n",
              "    }\n",
              "</style>\n",
              "<table border=\"1\" class=\"dataframe\">\n",
              "  <thead>\n",
              "    <tr style=\"text-align: right;\">\n",
              "      <th></th>\n",
              "      <th>user_id</th>\n",
              "      <th>recipe_id</th>\n",
              "      <th>date</th>\n",
              "      <th>rating</th>\n",
              "      <th>review</th>\n",
              "      <th>usuario_idx</th>\n",
              "      <th>receta_idx</th>\n",
              "    </tr>\n",
              "  </thead>\n",
              "  <tbody>\n",
              "    <tr>\n",
              "      <th>0</th>\n",
              "      <td>38094</td>\n",
              "      <td>40893</td>\n",
              "      <td>2003-02-17</td>\n",
              "      <td>4</td>\n",
              "      <td>Great with a salad. Cooked on top of stove for...</td>\n",
              "      <td>0</td>\n",
              "      <td>0</td>\n",
              "    </tr>\n",
              "    <tr>\n",
              "      <th>1</th>\n",
              "      <td>1293707</td>\n",
              "      <td>40893</td>\n",
              "      <td>2011-12-21</td>\n",
              "      <td>5</td>\n",
              "      <td>So simple, so delicious! Great for chilly fall...</td>\n",
              "      <td>1</td>\n",
              "      <td>0</td>\n",
              "    </tr>\n",
              "    <tr>\n",
              "      <th>2</th>\n",
              "      <td>8937</td>\n",
              "      <td>44394</td>\n",
              "      <td>2002-12-01</td>\n",
              "      <td>4</td>\n",
              "      <td>This worked very well and is EASY.  I used not...</td>\n",
              "      <td>2</td>\n",
              "      <td>1</td>\n",
              "    </tr>\n",
              "    <tr>\n",
              "      <th>4</th>\n",
              "      <td>57222</td>\n",
              "      <td>85009</td>\n",
              "      <td>2011-10-01</td>\n",
              "      <td>5</td>\n",
              "      <td>Made the cheddar bacon topping, adding a sprin...</td>\n",
              "      <td>3</td>\n",
              "      <td>2</td>\n",
              "    </tr>\n",
              "    <tr>\n",
              "      <th>6</th>\n",
              "      <td>124416</td>\n",
              "      <td>120345</td>\n",
              "      <td>2011-08-06</td>\n",
              "      <td>0</td>\n",
              "      <td>Just an observation, so I will not rate.  I fo...</td>\n",
              "      <td>4</td>\n",
              "      <td>3</td>\n",
              "    </tr>\n",
              "    <tr>\n",
              "      <th>...</th>\n",
              "      <td>...</td>\n",
              "      <td>...</td>\n",
              "      <td>...</td>\n",
              "      <td>...</td>\n",
              "      <td>...</td>\n",
              "      <td>...</td>\n",
              "      <td>...</td>\n",
              "    </tr>\n",
              "    <tr>\n",
              "      <th>1132354</th>\n",
              "      <td>143592</td>\n",
              "      <td>82303</td>\n",
              "      <td>2010-07-26</td>\n",
              "      <td>5</td>\n",
              "      <td>I will never buy hot fudge again. This is so q...</td>\n",
              "      <td>24805</td>\n",
              "      <td>161749</td>\n",
              "    </tr>\n",
              "    <tr>\n",
              "      <th>1132356</th>\n",
              "      <td>199020</td>\n",
              "      <td>82303</td>\n",
              "      <td>2013-03-18</td>\n",
              "      <td>5</td>\n",
              "      <td>5 stars for taste! I had a hard time getting m...</td>\n",
              "      <td>2279</td>\n",
              "      <td>161749</td>\n",
              "    </tr>\n",
              "    <tr>\n",
              "      <th>1132357</th>\n",
              "      <td>1122988</td>\n",
              "      <td>82303</td>\n",
              "      <td>2014-07-08</td>\n",
              "      <td>5</td>\n",
              "      <td>This was amazingly delicious!  The only change...</td>\n",
              "      <td>204</td>\n",
              "      <td>161749</td>\n",
              "    </tr>\n",
              "    <tr>\n",
              "      <th>1132361</th>\n",
              "      <td>102526</td>\n",
              "      <td>54493</td>\n",
              "      <td>2007-04-26</td>\n",
              "      <td>0</td>\n",
              "      <td>I am not going to rate this because I did have...</td>\n",
              "      <td>2886</td>\n",
              "      <td>161770</td>\n",
              "    </tr>\n",
              "    <tr>\n",
              "      <th>1132364</th>\n",
              "      <td>157126</td>\n",
              "      <td>78003</td>\n",
              "      <td>2008-06-23</td>\n",
              "      <td>5</td>\n",
              "      <td>WOW!  Sometimes I don't take the time to rate ...</td>\n",
              "      <td>14461</td>\n",
              "      <td>161793</td>\n",
              "    </tr>\n",
              "  </tbody>\n",
              "</table>\n",
              "<p>623158 rows × 7 columns</p>\n",
              "</div>"
            ],
            "text/plain": [
              "         user_id  recipe_id        date  rating  \\\n",
              "0          38094      40893  2003-02-17       4   \n",
              "1        1293707      40893  2011-12-21       5   \n",
              "2           8937      44394  2002-12-01       4   \n",
              "4          57222      85009  2011-10-01       5   \n",
              "6         124416     120345  2011-08-06       0   \n",
              "...          ...        ...         ...     ...   \n",
              "1132354   143592      82303  2010-07-26       5   \n",
              "1132356   199020      82303  2013-03-18       5   \n",
              "1132357  1122988      82303  2014-07-08       5   \n",
              "1132361   102526      54493  2007-04-26       0   \n",
              "1132364   157126      78003  2008-06-23       5   \n",
              "\n",
              "                                                    review  usuario_idx  \\\n",
              "0        Great with a salad. Cooked on top of stove for...            0   \n",
              "1        So simple, so delicious! Great for chilly fall...            1   \n",
              "2        This worked very well and is EASY.  I used not...            2   \n",
              "4        Made the cheddar bacon topping, adding a sprin...            3   \n",
              "6        Just an observation, so I will not rate.  I fo...            4   \n",
              "...                                                    ...          ...   \n",
              "1132354  I will never buy hot fudge again. This is so q...        24805   \n",
              "1132356  5 stars for taste! I had a hard time getting m...         2279   \n",
              "1132357  This was amazingly delicious!  The only change...          204   \n",
              "1132361  I am not going to rate this because I did have...         2886   \n",
              "1132364  WOW!  Sometimes I don't take the time to rate ...        14461   \n",
              "\n",
              "         receta_idx  \n",
              "0                 0  \n",
              "1                 0  \n",
              "2                 1  \n",
              "4                 2  \n",
              "6                 3  \n",
              "...             ...  \n",
              "1132354      161749  \n",
              "1132356      161749  \n",
              "1132357      161749  \n",
              "1132361      161770  \n",
              "1132364      161793  \n",
              "\n",
              "[623158 rows x 7 columns]"
            ]
          },
          "execution_count": 7,
          "metadata": {},
          "output_type": "execute_result"
        }
      ],
      "source": [
        "# Mapear los ID de usuarios a índices secuenciales\n",
        "usuario_ids = df_filtrado['user_id'].unique()\n",
        "mapa_usuario_ids = {id: idx for idx, id in enumerate(usuario_ids)}\n",
        "df_filtrado['usuario_idx'] = df_filtrado['user_id'].map(mapa_usuario_ids)\n",
        "\n",
        "# Mapear los ID de recetas a índices secuenciales\n",
        "receta_ids = df_filtrado['recipe_id'].unique()\n",
        "mapa_receta_ids = {id: idx for idx, id in enumerate(receta_ids)}\n",
        "df_filtrado['receta_idx'] = df_filtrado['recipe_id'].map(mapa_receta_ids)\n",
        "\n",
        "print(\"DataFrame con índices mapeados:\")\n",
        "df_filtrado"
      ]
    },
    {
      "cell_type": "code",
      "execution_count": 8,
      "metadata": {
        "colab": {
          "base_uri": "https://localhost:8080/"
        },
        "id": "fXtcIPEKVFhe",
        "outputId": "d8ebb229-78a4-42a6-9e54-e2f025776a89"
      },
      "outputs": [
        {
          "name": "stdout",
          "output_type": "stream",
          "text": [
            "Epoch 1/20\n",
            "\u001b[1m6232/6232\u001b[0m \u001b[32m━━━━━━━━━━━━━━━━━━━━\u001b[0m\u001b[37m\u001b[0m \u001b[1m209s\u001b[0m 33ms/step - loss: 2.5252 - mse: 2.4502 - val_loss: 1.1091 - val_mse: 1.1016\n",
            "Epoch 2/20\n",
            "\u001b[1m6232/6232\u001b[0m \u001b[32m━━━━━━━━━━━━━━━━━━━━\u001b[0m\u001b[37m\u001b[0m \u001b[1m208s\u001b[0m 33ms/step - loss: 1.1184 - mse: 1.1084 - val_loss: 1.1102 - val_mse: 1.1004\n",
            "Epoch 3/20\n",
            "\u001b[1m6232/6232\u001b[0m \u001b[32m━━━━━━━━━━━━━━━━━━━━\u001b[0m\u001b[37m\u001b[0m \u001b[1m182s\u001b[0m 29ms/step - loss: 0.9548 - mse: 0.9433 - val_loss: 1.1331 - val_mse: 1.1228\n",
            "Epoch 4/20\n",
            "\u001b[1m6232/6232\u001b[0m \u001b[32m━━━━━━━━━━━━━━━━━━━━\u001b[0m\u001b[37m\u001b[0m \u001b[1m184s\u001b[0m 29ms/step - loss: 0.8961 - mse: 0.8849 - val_loss: 1.1557 - val_mse: 1.1459\n",
            "\u001b[1m3895/3895\u001b[0m \u001b[32m━━━━━━━━━━━━━━━━━━━━\u001b[0m\u001b[37m\u001b[0m \u001b[1m2s\u001b[0m 587us/step\n",
            "MSE: 1.096836573447612, RMSE: 1.0472996579048481, MAE: 0.6689977856148834\n"
          ]
        },
        {
          "name": "stderr",
          "output_type": "stream",
          "text": [
            "C:\\Users\\7UI5\\AppData\\Local\\Packages\\PythonSoftwareFoundation.Python.3.11_qbz5n2kfra8p0\\LocalCache\\local-packages\\Python311\\site-packages\\sklearn\\metrics\\_regression.py:483: FutureWarning: 'squared' is deprecated in version 1.4 and will be removed in 1.6. To calculate the root mean squared error, use the function'root_mean_squared_error'.\n",
            "  warnings.warn(\n"
          ]
        }
      ],
      "source": [
        "# Crear las etiquetas de rating\n",
        "X = df_filtrado[['usuario_idx', 'receta_idx']]\n",
        "y = df_filtrado['rating']\n",
        "\n",
        "# Dividir los datos en conjuntos de entrenamiento y prueba\n",
        "X_train, X_test, y_train, y_test = train_test_split(X, y, test_size=0.2, random_state=42)\n",
        "\n",
        "# Parámetros de entrada\n",
        "num_users = df_filtrado['usuario_idx'].nunique()\n",
        "num_items = df_filtrado['receta_idx'].nunique()\n",
        "embedding_dim = 20\n",
        "\n",
        "# Entrada del usuario e ítem\n",
        "user_input = Input(shape=(1,), name='user_input')\n",
        "item_input = Input(shape=(1,), name='item_input')\n",
        "\n",
        "# Embeddings para usuarios e ítems\n",
        "user_embedding = Embedding(input_dim=num_users, output_dim=embedding_dim, name='user_embedding')(user_input)\n",
        "item_embedding = Embedding(input_dim=num_items, output_dim=embedding_dim, name='item_embedding')(item_input)\n",
        "\n",
        "# Flatten the embeddings\n",
        "user_flat = Flatten()(user_embedding)\n",
        "item_flat = Flatten()(item_embedding)\n",
        "\n",
        "# Concatenate embeddings\n",
        "concat = Concatenate()([user_flat, item_flat])\n",
        "\n",
        "# Red neuronal densa con regularización y dropout\n",
        "fc1 = Dense(128, activation='relu', kernel_regularizer=l2(0.001))(concat)\n",
        "fc1 = Dropout(0.5)(fc1)\n",
        "fc2 = Dense(64, activation='relu', kernel_regularizer=l2(0.001))(fc1)\n",
        "fc2 = Dropout(0.5)(fc2)\n",
        "output = Dense(1)(fc2)\n",
        "\n",
        "# Compilar el modelo\n",
        "model_ncf = Model(inputs=[user_input, item_input], outputs=output)\n",
        "model_ncf.compile(optimizer='adam', loss='mean_squared_error', metrics=['mse'])\n",
        "\n",
        "# Early stopping callback\n",
        "early_stopping = EarlyStopping(monitor='val_loss', patience=3, restore_best_weights=True)\n",
        "\n",
        "# Entrenar el modelo\n",
        "history = model_ncf.fit(\n",
        "    [X_train['usuario_idx'], X_train['receta_idx']], y_train,\n",
        "    epochs=20, batch_size=64,\n",
        "    validation_split=0.2,\n",
        "    callbacks=[early_stopping]\n",
        ")\n",
        "\n",
        "# Evaluación del modelo\n",
        "def evaluate_model(y_true, y_pred):\n",
        "    mse = mean_squared_error(y_true, y_pred)\n",
        "    rmse = mean_squared_error(y_true, y_pred, squared=False)\n",
        "    mae = mean_absolute_error(y_true, y_pred)\n",
        "\n",
        "    return mse, rmse, mae\n",
        "\n",
        "# Evaluar NCF\n",
        "y_pred_ncf = model_ncf.predict([X_test['usuario_idx'], X_test['receta_idx']])\n",
        "mse_ncf, rmse_ncf, mae_ncf = evaluate_model(y_test, y_pred_ncf)\n",
        "\n",
        "print(f\"MSE: {mse_ncf}, RMSE: {rmse_ncf}, MAE: {mae_ncf}\")"
      ]
    },
    {
      "cell_type": "code",
      "execution_count": 21,
      "metadata": {
        "colab": {
          "base_uri": "https://localhost:8080/",
          "height": 607
        },
        "id": "5ixgPgIVVFhf",
        "outputId": "c69f3afe-14b3-4113-e815-4f5f4b204276"
      },
      "outputs": [
        {
          "data": {
            "image/png": "[encoded data removed]",
            "text/plain": [
              "<Figure size 1000x600 with 1 Axes>"
            ]
          },
          "metadata": {},
          "output_type": "display_data"
        }
      ],
      "source": [
        "# Definir los bins\n",
        "bins = np.arange(0, 7)  # Ajustar según el rango de los datos\n",
        "\n",
        "# Calcular las frecuencias\n",
        "y_test_hist, _ = np.histogram(y_test, bins=bins)\n",
        "y_pred_hist, _ = np.histogram(np.round(y_pred_ncf), bins=bins)\n",
        "\n",
        "# Crear la figura y los ejes\n",
        "fig, ax = plt.subplots(figsize=(10, 6))\n",
        "\n",
        "# Crear el gráfico de barras comparativo\n",
        "bar_width = 0.4\n",
        "ax.bar(bins[:-1] - bar_width/2, y_test_hist, bar_width, label='y_test', alpha=0.6, color='blue', align='center')\n",
        "ax.bar(bins[:-1] + bar_width/2, y_pred_hist, bar_width, label='y_pred_ncf', alpha=0.6, color='red', align='center')\n",
        "\n",
        "# Añadir etiquetas y título\n",
        "ax.set_xlabel('Valor')\n",
        "ax.set_ylabel('Frecuencia')\n",
        "ax.set_title('Distribuciones de y_test y y_pred_ncf')\n",
        "ax.legend()\n",
        "\n",
        "# Ajustar el layout para que los subplots no se solapen\n",
        "plt.tight_layout()\n",
        "plt.show()\n"
      ]
    },
    {
      "cell_type": "markdown",
      "metadata": {
        "id": "ulLH8-q5yNEi"
      },
      "source": [
        "## Similitud de coseno"
      ]
    },
    {
      "cell_type": "code",
      "execution_count": 9,
      "metadata": {
        "colab": {
          "base_uri": "https://localhost:8080/"
        },
        "id": "ktubwWzJzvHC",
        "outputId": "7bd4b37b-a49d-42a9-e1d8-0c1a1370e78c"
      },
      "outputs": [
        {
          "name": "stdout",
          "output_type": "stream",
          "text": [
            "Matriz de puntuaciones dispersa:\n",
            "  (0, 1050)\t5\n",
            "  (0, 10173)\t5\n",
            "  (0, 14937)\t5\n",
            "  (0, 17671)\t5\n",
            "  (0, 21958)\t4\n",
            "  (0, 22734)\t5\n",
            "  (0, 25138)\t5\n",
            "  (0, 25197)\t5\n",
            "  (0, 26147)\t5\n",
            "  (0, 42267)\t4\n",
            "  (0, 52906)\t5\n",
            "  (0, 59588)\t5\n",
            "  (0, 63703)\t5\n",
            "  (0, 64785)\t5\n",
            "  (0, 76143)\t5\n",
            "  (0, 80985)\t5\n",
            "  (0, 81574)\t5\n",
            "  (0, 84453)\t5\n",
            "  (0, 90116)\t4\n",
            "  (0, 91141)\t5\n",
            "  (0, 91857)\t5\n",
            "  (0, 117861)\t4\n",
            "  (0, 124614)\t5\n",
            "  (0, 135000)\t4\n",
            "  (0, 146804)\t5\n",
            "  :\t:\n",
            "  (27995, 157967)\t5\n",
            "  (27996, 128216)\t5\n",
            "  (27996, 135574)\t5\n",
            "  (27996, 160254)\t5\n",
            "  (27997, 132040)\t5\n",
            "  (27997, 147548)\t5\n",
            "  (27997, 152568)\t5\n",
            "  (27998, 132791)\t5\n",
            "  (27998, 147782)\t5\n",
            "  (27998, 156164)\t5\n",
            "  (27998, 160045)\t5\n",
            "  (27999, 137611)\t5\n",
            "  (27999, 143313)\t5\n",
            "  (27999, 145204)\t5\n",
            "  (27999, 146029)\t5\n",
            "  (28000, 138129)\t5\n",
            "  (28000, 143255)\t5\n",
            "  (28000, 155271)\t5\n",
            "  (28000, 161659)\t4\n",
            "  (28001, 138627)\t4\n",
            "  (28001, 138825)\t3\n",
            "  (28001, 145404)\t5\n",
            "  (28001, 155948)\t3\n",
            "  (28002, 151397)\t4\n",
            "  (28002, 158257)\t5\n"
          ]
        }
      ],
      "source": [
        "# Crear una matriz dispersa de puntuaciones de usuarios y recetas\n",
        "matriz_usuario_receta = csr_matrix(\n",
        "    (y_train, (X_train['usuario_idx'], X_train['receta_idx']))\n",
        ")\n",
        "\n",
        "print(\"Matriz de puntuaciones dispersa:\")\n",
        "print(matriz_usuario_receta)\n"
      ]
    },
    {
      "cell_type": "code",
      "execution_count": 10,
      "metadata": {
        "colab": {
          "base_uri": "https://localhost:8080/"
        },
        "id": "dRRe3TWY1NZo",
        "outputId": "00aa15bb-c965-4d60-a76f-253e2ff5cd69"
      },
      "outputs": [
        {
          "name": "stdout",
          "output_type": "stream",
          "text": [
            "Matriz de similitud de usuarios dispersa:\n",
            "  (0, 7994)\t0.04529461216034753\n",
            "  (0, 7814)\t0.05549563890783426\n",
            "  (0, 3956)\t0.016256784107126845\n",
            "  (0, 2784)\t0.027391606744548942\n",
            "  (0, 1809)\t0.018063093452363163\n",
            "  (0, 1642)\t0.0204072453423864\n",
            "  (0, 842)\t0.03296099935974235\n",
            "  (0, 26057)\t0.07827803638564368\n",
            "  (0, 25486)\t0.09182740327029482\n",
            "  (0, 22086)\t0.05620035486364904\n",
            "  (0, 16416)\t0.07441003491152978\n",
            "  (0, 16275)\t0.06294214800865318\n",
            "  (0, 13638)\t0.04121800046134088\n",
            "  (0, 12442)\t0.03623568972827803\n",
            "  (0, 11772)\t0.010383370683538565\n",
            "  (0, 10826)\t0.03374805785515404\n",
            "  (0, 10229)\t0.03219020499622185\n",
            "  (0, 10004)\t0.027532438555856607\n",
            "  (0, 8108)\t0.04069481333706324\n",
            "  (0, 7489)\t0.0286468280321316\n",
            "  (0, 6610)\t0.02689136063856879\n",
            "  (0, 6303)\t0.030271579764434488\n",
            "  (0, 6061)\t0.019022548235232355\n",
            "  (0, 5547)\t0.0369006202308373\n",
            "  (0, 5507)\t0.02998887019669123\n",
            "  :\t:\n",
            "  (28000, 175)\t0.06564614287314952\n",
            "  (28000, 133)\t0.03783066169099216\n",
            "  (28000, 122)\t0.12075603898541763\n",
            "  (28000, 28000)\t1.0000000000000002\n",
            "  (28000, 16440)\t0.10884847396563706\n",
            "  (28000, 16280)\t0.23440361546924773\n",
            "  (28000, 12311)\t0.1290349435231273\n",
            "  (28000, 10108)\t0.17471413945365305\n",
            "  (28000, 9685)\t0.17912203554434708\n",
            "  (28000, 8170)\t0.07775532604901944\n",
            "  (28000, 7555)\t0.06315019822878337\n",
            "  (28000, 4594)\t0.10155053083322763\n",
            "  (28000, 2878)\t0.04850883711408481\n",
            "  (28000, 975)\t0.08552370688239068\n",
            "  (28000, 650)\t0.03759249735838659\n",
            "  (28001, 16088)\t0.09623841223943637\n",
            "  (28001, 3147)\t0.05405054818625022\n",
            "  (28001, 28001)\t1.0000000000000002\n",
            "  (28001, 10049)\t0.05819316166363679\n",
            "  (28001, 1900)\t0.04902328920441914\n",
            "  (28002, 22499)\t0.3146210092701763\n",
            "  (28002, 7417)\t0.4311626714552119\n",
            "  (28002, 7404)\t0.3904344047215152\n",
            "  (28002, 28002)\t1.0\n",
            "  (28002, 140)\t0.07014508458382651\n"
          ]
        }
      ],
      "source": [
        "similitud_usuarios = cosine_similarity(matriz_usuario_receta, dense_output=False)\n",
        "\n",
        "print(\"Matriz de similitud de usuarios dispersa:\")\n",
        "print(similitud_usuarios)"
      ]
    },
    {
      "cell_type": "code",
      "execution_count": 11,
      "metadata": {
        "colab": {
          "base_uri": "https://localhost:8080/"
        },
        "id": "WwF_MKPN3mMz",
        "outputId": "b979d15d-676d-41dc-c546-6fd1516e9ae7"
      },
      "outputs": [
        {
          "name": "stdout",
          "output_type": "stream",
          "text": [
            "Recomendaciones para el usuario:\n",
            "0.0\n"
          ]
        }
      ],
      "source": [
        "def obtener_recomendacion(idx_usuario, idx_receta, matriz_usuario_receta, similitud_usuarios, num_recomendaciones=5):\n",
        "\n",
        "    idx_usuario = idx_usuario\n",
        "\n",
        "    # Calcular las puntuaciones ponderadas basadas en la similitud\n",
        "    usuarios_similares = similitud_usuarios[idx_usuario].toarray().flatten()\n",
        "    suma_ponderada = matriz_usuario_receta.T.dot(usuarios_similares)\n",
        "\n",
        "    # Normalizar por la suma de las similitudes\n",
        "    suma_similitudes = usuarios_similares.sum()\n",
        "    calificaciones_ponderadas = suma_ponderada / suma_similitudes\n",
        "\n",
        "    min_val = np.min(calificaciones_ponderadas)\n",
        "    max_val = np.max(calificaciones_ponderadas)\n",
        "\n",
        "    calificaciones_ponderadas_normalizado = 5 * (calificaciones_ponderadas - min_val) / (max_val - min_val)\n",
        "\n",
        "\n",
        "    return calificaciones_ponderadas_normalizado[idx_receta]\n",
        "\n",
        "\n",
        "recomendaciones = obtener_recomendacion(6213,55122,matriz_usuario_receta, similitud_usuarios)\n",
        "\n",
        "print(f\"Recomendaciones para el usuario:\")\n",
        "print(recomendaciones)"
      ]
    },
    {
      "cell_type": "code",
      "execution_count": 12,
      "metadata": {
        "colab": {
          "base_uri": "https://localhost:8080/"
        },
        "id": "yavY90s36Xkx",
        "outputId": "9a8f9597-eade-47b8-c9cc-5e9489818aec"
      },
      "outputs": [
        {
          "name": "stderr",
          "output_type": "stream",
          "text": [
            "C:\\Users\\7UI5\\AppData\\Local\\Temp\\ipykernel_34484\\1164722453.py:11: RuntimeWarning: invalid value encountered in divide\n",
            "  calificaciones_ponderadas = suma_ponderada / suma_similitudes\n"
          ]
        }
      ],
      "source": [
        "y_pred_similitud = [obtener_recomendacion(X_test['usuario_idx'].values[i],X_test['receta_idx'].values[i],matriz_usuario_receta, similitud_usuarios) for i in range(0,len(X_test))]"
      ]
    },
    {
      "cell_type": "code",
      "execution_count": 13,
      "metadata": {
        "id": "M2TTRKrF9CH3"
      },
      "outputs": [],
      "source": [
        "y_pred_similitud = np.array(y_pred_similitud)\n",
        "\n",
        "# Reemplazar los valores NaN por 0\n",
        "y_pred_similitud[np.isnan(y_pred_similitud)] = 0"
      ]
    },
    {
      "cell_type": "markdown",
      "metadata": {
        "id": "mAmqa7en-gZZ"
      },
      "source": [
        "## Comparación de modelo"
      ]
    },
    {
      "cell_type": "markdown",
      "metadata": {
        "id": "xJ5O54V9-jp0"
      },
      "source": [
        "**Similitud de coseno (básico)**"
      ]
    },
    {
      "cell_type": "code",
      "execution_count": 14,
      "metadata": {
        "colab": {
          "base_uri": "https://localhost:8080/"
        },
        "id": "hQvbeRJL8szB",
        "outputId": "8fbcbb12-340f-47ea-adf9-275cd6f571af"
      },
      "outputs": [
        {
          "name": "stdout",
          "output_type": "stream",
          "text": [
            "MSE: 20.873599510153568, RMSE: 4.568763455263751, MAE: 4.43790710696819\n"
          ]
        },
        {
          "name": "stderr",
          "output_type": "stream",
          "text": [
            "C:\\Users\\7UI5\\AppData\\Local\\Packages\\PythonSoftwareFoundation.Python.3.11_qbz5n2kfra8p0\\LocalCache\\local-packages\\Python311\\site-packages\\sklearn\\metrics\\_regression.py:483: FutureWarning: 'squared' is deprecated in version 1.4 and will be removed in 1.6. To calculate the root mean squared error, use the function'root_mean_squared_error'.\n",
            "  warnings.warn(\n"
          ]
        }
      ],
      "source": [
        "mse_similitud, rmse_similitud, mae_similitud = evaluate_model(y_test, y_pred_similitud)\n",
        "\n",
        "print(f\"MSE: {mse_similitud}, RMSE: {rmse_similitud}, MAE: {mae_similitud}\")"
      ]
    },
    {
      "cell_type": "markdown",
      "metadata": {
        "id": "BHNtzQ6--qhN"
      },
      "source": [
        "**Filtro colaborativo neuronal (avanzado)**\n",
        "\n"
      ]
    },
    {
      "cell_type": "code",
      "execution_count": 15,
      "metadata": {
        "colab": {
          "base_uri": "https://localhost:8080/"
        },
        "id": "kVLTBMr09SvO",
        "outputId": "7c5941d7-69b1-4afc-86d3-b422ef89ba4c"
      },
      "outputs": [
        {
          "name": "stdout",
          "output_type": "stream",
          "text": [
            "MSE: 1.096836573447612, RMSE: 1.0472996579048481, MAE: 0.6689977856148834\n"
          ]
        }
      ],
      "source": [
        "print(f\"MSE: {mse_ncf}, RMSE: {rmse_ncf}, MAE: {mae_ncf}\")"
      ]
    },
    {
      "cell_type": "markdown",
      "metadata": {
        "id": "9J2xTalH_mis"
      },
      "source": [
        "### Conclusión"
      ]
    },
    {
      "cell_type": "markdown",
      "metadata": {
        "id": "6TURUyto-z9e"
      },
      "source": [
        "En el notebook presenta una comparación entre dos sistemas de recomendación: un sistema avanzado basado en redes neuronales (Filtro Colaborativo Neuronal) y un sistema básico basado en similitud de coseno. Ambos sistemas se evalúan utilizando métricas como MSE (Mean Squared Error), RMSE (Root Mean Squared Error) y MAE (Mean Absolute Error) para determinar su desempeño.\n",
        "\n",
        "Datos y Preprocesamiento:\n",
        "Se utilizó un conjunto de datos de interacciones de usuarios con recetas. Se realizó un filtrado para incluir solo usuarios con un número moderado de interacciones, eliminando aquellos con muy pocas o demasiadas interacciones, con el fin de evitar sesgos en los datos. Los datos se dividieron en conjuntos de entrenamiento y prueba para evaluar el desempeño de los modelos.\n",
        "\n",
        "Evaluación de Modelos:\n",
        "\n",
        "Sistema de Recomendación Avanzado (Filtro Colaborativo Neuronal):\n",
        "\n",
        "Se construyó un modelo de red neuronal utilizando embeddings para usuarios y recetas.\n",
        "La red neuronal consta de capas densas con regularización L2 y dropout para evitar el sobreajuste.\n",
        "Se utilizó la pérdida de error cuadrático medio para entrenar el modelo.\n",
        "Los resultados de evaluación del modelo avanzado fueron: MSE: X, RMSE: X, MAE: X.\n",
        "Sistema de Recomendación Básico (Similitud de Coseno):\n",
        "\n",
        "Se utilizó una matriz dispersa de puntuaciones de usuarios y recetas para calcular la similitud de coseno entre usuarios.\n",
        "Las recomendaciones se basaron en las calificaciones ponderadas de usuarios similares.\n",
        "Los resultados de evaluación del modelo básico fueron: MSE: Y, RMSE: Y, MAE: Y.\n",
        "Comparación de Desempeño:\n",
        "Los resultados muestran que el modelo avanzado basado en redes neuronales produce errores significativamente menores en comparación con el modelo basado en similitud de coseno. Esto se debe a la capacidad del modelo avanzado para capturar relaciones complejas y no lineales en los datos, una característica crucial cuando se trabaja con matrices de usuarios y calificaciones altamente dispersas.\n",
        "\n",
        "Algunas conclusiones de los resultados observados:\n",
        "\n",
        "-Desempeño Superior del Modelo Avanzado:\n",
        "El sistema de recomendación avanzado basado en redes neuronales demostró un rendimiento significativamente mejor que el modelo básico. Esto se refleja en métricas más bajas de MSE, RMSE y MAE, lo que indica predicciones más precisas y consistentes.\n",
        "\n",
        "-Capacidad para Capturar Relaciones Complejas:\n",
        "La red neuronal avanzada tiene la capacidad de aprender representaciones latentes a partir de los datos, lo que le permite capturar relaciones complejas y no lineales entre usuarios y recetas. Esto es especialmente importante en matrices dispersas donde los datos son limitados y faltantes.\n",
        "\n",
        "-Importancia de la Regularización y Dropout:\n",
        "El uso de técnicas como la regularización L2 y el dropout en la red neuronal ayuda a prevenir el sobreajuste y mejora la generalización del modelo. Esto permite que el modelo mantenga un buen desempeño incluso en presencia de datos ruidosos o incompletos.\n",
        "\n",
        "-Aplicabilidad a Escenarios del Mundo Real:\n",
        "En aplicaciones del mundo real, como sistemas de recomendación para plataformas de comercio electrónico o servicios de streaming, la capacidad de un modelo para hacer predicciones precisas en un entorno de datos dispersos y heterogéneos es crucial. Los modelos avanzados como el Filtro Colaborativo Neuronal son más adecuados para estos escenarios debido a su robustez y flexibilidad.\n",
        "\n",
        "-Recomendaciones para Implementación:\n",
        "Se recomienda implementar el sistema de recomendación avanzado en entornos donde la precisión de las recomendaciones es crítica para la experiencia del usuario y la satisfacción del cliente. Además, se debe considerar la inversión en infraestructura adecuada para soportar el entrenamiento y la implementación de modelos de redes neuronales."
      ]
    },
    {
      "cell_type": "markdown",
      "metadata": {},
      "source": []
    }
  ],
  "metadata": {
    "accelerator": "GPU",
    "colab": {
      "gpuType": "T4",
      "provenance": []
    },
    "kernelspec": {
      "display_name": "Python 3",
      "name": "python3"
    },
    "language_info": {
      "codemirror_mode": {
        "name": "ipython",
        "version": 3
      },
      "file_extension": ".py",
      "mimetype": "text/x-python",
      "name": "python",
      "nbconvert_exporter": "python",
      "pygments_lexer": "ipython3",
      "version": "3.11.9"
    }
  },
  "nbformat": 4,
  "nbformat_minor": 0
}
